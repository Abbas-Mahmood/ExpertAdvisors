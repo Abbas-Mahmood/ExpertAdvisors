{
 "cells": [
  {
   "cell_type": "code",
   "execution_count": null,
   "id": "3af27016",
   "metadata": {},
   "outputs": [],
   "source": [
    "import"
   ]
  },
  {
   "cell_type": "code",
   "execution_count": 1,
   "id": "85c5a20b",
   "metadata": {},
   "outputs": [],
   "source": [
    "#The backtester will use the tick data to backtest a strategy.\n",
    "#The function must be general where a strategy can be inputted a parameter\n",
    "#Must establish general method of coding a strategy so that i can easily input different strategies. O -open,C -close\n",
    "#Another parameter should adjust size of lots / size of lots determined within strategy code."
   ]
  },
  {
   "cell_type": "code",
   "execution_count": null,
   "id": "8ce52047",
   "metadata": {},
   "outputs": [],
   "source": [
    "#Simple Testing strategy : 10 pips up/down - buy/sell\n",
    "def BasicStrategy():\n",
    "    "
   ]
  },
  {
   "cell_type": "code",
   "execution_count": null,
   "id": "76cf8ab9",
   "metadata": {},
   "outputs": [],
   "source": [
    "def StrategyTester(Strategy):\n",
    "    "
   ]
  },
  {
   "cell_type": "code",
   "execution_count": 2,
   "id": "b08dd72b",
   "metadata": {},
   "outputs": [],
   "source": [
    "#Notes:\n",
    "#On each price update, strategy should be looped through to check if conditions are met\n",
    "#\n",
    "#\n",
    "#"
   ]
  }
 ],
 "metadata": {
  "kernelspec": {
   "display_name": "Python 3",
   "language": "python",
   "name": "python3"
  },
  "language_info": {
   "codemirror_mode": {
    "name": "ipython",
    "version": 3
   },
   "file_extension": ".py",
   "mimetype": "text/x-python",
   "name": "python",
   "nbconvert_exporter": "python",
   "pygments_lexer": "ipython3",
   "version": "3.7.10"
  }
 },
 "nbformat": 4,
 "nbformat_minor": 5
}
